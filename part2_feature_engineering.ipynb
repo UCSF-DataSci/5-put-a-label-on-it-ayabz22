{
 "cells": [
  {
   "cell_type": "markdown",
   "id": "b3db773a",
   "metadata": {},
   "source": [
    "# Install necessary packages"
   ]
  },
  {
   "cell_type": "code",
   "execution_count": 6,
   "id": "e83885b2",
   "metadata": {
    "lines_to_next_cell": 0
   },
   "outputs": [
    {
     "name": "stdout",
     "output_type": "stream",
     "text": [
      "Requirement already satisfied: pandas<3.0,>=1.5 in /home/codespace/.local/lib/python3.12/site-packages (from -r requirements.txt (line 2)) (2.2.3)\n",
      "Requirement already satisfied: numpy<3.0,>=1.20 in /home/codespace/.local/lib/python3.12/site-packages (from -r requirements.txt (line 3)) (2.2.5)\n",
      "Requirement already satisfied: scikit-learn<2.0,>=1.0 in /home/codespace/.local/lib/python3.12/site-packages (from -r requirements.txt (line 4)) (1.6.1)\n",
      "Requirement already satisfied: xgboost<3.0,>=1.5 in /home/codespace/.local/lib/python3.12/site-packages (from -r requirements.txt (line 5)) (2.1.4)\n",
      "Requirement already satisfied: imbalanced-learn<1.0,>=0.9 in /home/codespace/.local/lib/python3.12/site-packages (from -r requirements.txt (line 6)) (0.13.0)\n",
      "Requirement already satisfied: matplotlib<4.0,>=3.5 in /home/codespace/.local/lib/python3.12/site-packages (from -r requirements.txt (line 7)) (3.10.1)\n",
      "Requirement already satisfied: seaborn<1.0,>=0.11 in /home/codespace/.local/lib/python3.12/site-packages (from -r requirements.txt (line 8)) (0.13.2)\n",
      "Requirement already satisfied: ipykernel in /home/codespace/.local/lib/python3.12/site-packages (from -r requirements.txt (line 9)) (6.29.5)\n",
      "Requirement already satisfied: python-dateutil>=2.8.2 in /home/codespace/.local/lib/python3.12/site-packages (from pandas<3.0,>=1.5->-r requirements.txt (line 2)) (2.9.0.post0)\n",
      "Requirement already satisfied: pytz>=2020.1 in /home/codespace/.local/lib/python3.12/site-packages (from pandas<3.0,>=1.5->-r requirements.txt (line 2)) (2025.2)\n",
      "Requirement already satisfied: tzdata>=2022.7 in /home/codespace/.local/lib/python3.12/site-packages (from pandas<3.0,>=1.5->-r requirements.txt (line 2)) (2025.2)\n",
      "Requirement already satisfied: scipy>=1.6.0 in /home/codespace/.local/lib/python3.12/site-packages (from scikit-learn<2.0,>=1.0->-r requirements.txt (line 4)) (1.15.2)\n",
      "Requirement already satisfied: joblib>=1.2.0 in /home/codespace/.local/lib/python3.12/site-packages (from scikit-learn<2.0,>=1.0->-r requirements.txt (line 4)) (1.5.0)\n",
      "Requirement already satisfied: threadpoolctl>=3.1.0 in /home/codespace/.local/lib/python3.12/site-packages (from scikit-learn<2.0,>=1.0->-r requirements.txt (line 4)) (3.6.0)\n",
      "Requirement already satisfied: nvidia-nccl-cu12 in /home/codespace/.local/lib/python3.12/site-packages (from xgboost<3.0,>=1.5->-r requirements.txt (line 5)) (2.26.5)\n",
      "Requirement already satisfied: sklearn-compat<1,>=0.1 in /home/codespace/.local/lib/python3.12/site-packages (from imbalanced-learn<1.0,>=0.9->-r requirements.txt (line 6)) (0.1.3)\n",
      "Requirement already satisfied: contourpy>=1.0.1 in /home/codespace/.local/lib/python3.12/site-packages (from matplotlib<4.0,>=3.5->-r requirements.txt (line 7)) (1.3.2)\n",
      "Requirement already satisfied: cycler>=0.10 in /home/codespace/.local/lib/python3.12/site-packages (from matplotlib<4.0,>=3.5->-r requirements.txt (line 7)) (0.12.1)\n",
      "Requirement already satisfied: fonttools>=4.22.0 in /home/codespace/.local/lib/python3.12/site-packages (from matplotlib<4.0,>=3.5->-r requirements.txt (line 7)) (4.57.0)\n",
      "Requirement already satisfied: kiwisolver>=1.3.1 in /home/codespace/.local/lib/python3.12/site-packages (from matplotlib<4.0,>=3.5->-r requirements.txt (line 7)) (1.4.8)\n",
      "Requirement already satisfied: packaging>=20.0 in /home/codespace/.local/lib/python3.12/site-packages (from matplotlib<4.0,>=3.5->-r requirements.txt (line 7)) (25.0)\n",
      "Requirement already satisfied: pillow>=8 in /home/codespace/.local/lib/python3.12/site-packages (from matplotlib<4.0,>=3.5->-r requirements.txt (line 7)) (11.2.1)\n",
      "Requirement already satisfied: pyparsing>=2.3.1 in /home/codespace/.local/lib/python3.12/site-packages (from matplotlib<4.0,>=3.5->-r requirements.txt (line 7)) (3.2.3)\n",
      "Requirement already satisfied: comm>=0.1.1 in /home/codespace/.local/lib/python3.12/site-packages (from ipykernel->-r requirements.txt (line 9)) (0.2.2)\n",
      "Requirement already satisfied: debugpy>=1.6.5 in /home/codespace/.local/lib/python3.12/site-packages (from ipykernel->-r requirements.txt (line 9)) (1.8.14)\n",
      "Requirement already satisfied: ipython>=7.23.1 in /home/codespace/.local/lib/python3.12/site-packages (from ipykernel->-r requirements.txt (line 9)) (9.2.0)\n",
      "Requirement already satisfied: jupyter-client>=6.1.12 in /home/codespace/.local/lib/python3.12/site-packages (from ipykernel->-r requirements.txt (line 9)) (8.6.3)\n",
      "Requirement already satisfied: jupyter-core!=5.0.*,>=4.12 in /home/codespace/.local/lib/python3.12/site-packages (from ipykernel->-r requirements.txt (line 9)) (5.7.2)\n",
      "Requirement already satisfied: matplotlib-inline>=0.1 in /home/codespace/.local/lib/python3.12/site-packages (from ipykernel->-r requirements.txt (line 9)) (0.1.7)\n",
      "Requirement already satisfied: nest-asyncio in /home/codespace/.local/lib/python3.12/site-packages (from ipykernel->-r requirements.txt (line 9)) (1.6.0)\n",
      "Requirement already satisfied: psutil in /home/codespace/.local/lib/python3.12/site-packages (from ipykernel->-r requirements.txt (line 9)) (7.0.0)\n",
      "Requirement already satisfied: pyzmq>=24 in /home/codespace/.local/lib/python3.12/site-packages (from ipykernel->-r requirements.txt (line 9)) (26.4.0)\n",
      "Requirement already satisfied: tornado>=6.1 in /home/codespace/.local/lib/python3.12/site-packages (from ipykernel->-r requirements.txt (line 9)) (6.4.2)\n",
      "Requirement already satisfied: traitlets>=5.4.0 in /home/codespace/.local/lib/python3.12/site-packages (from ipykernel->-r requirements.txt (line 9)) (5.14.3)\n",
      "Requirement already satisfied: decorator in /home/codespace/.local/lib/python3.12/site-packages (from ipython>=7.23.1->ipykernel->-r requirements.txt (line 9)) (5.2.1)\n",
      "Requirement already satisfied: ipython-pygments-lexers in /home/codespace/.local/lib/python3.12/site-packages (from ipython>=7.23.1->ipykernel->-r requirements.txt (line 9)) (1.1.1)\n",
      "Requirement already satisfied: jedi>=0.16 in /home/codespace/.local/lib/python3.12/site-packages (from ipython>=7.23.1->ipykernel->-r requirements.txt (line 9)) (0.19.2)\n",
      "Requirement already satisfied: pexpect>4.3 in /home/codespace/.local/lib/python3.12/site-packages (from ipython>=7.23.1->ipykernel->-r requirements.txt (line 9)) (4.9.0)\n",
      "Requirement already satisfied: prompt_toolkit<3.1.0,>=3.0.41 in /home/codespace/.local/lib/python3.12/site-packages (from ipython>=7.23.1->ipykernel->-r requirements.txt (line 9)) (3.0.51)\n",
      "Requirement already satisfied: pygments>=2.4.0 in /home/codespace/.local/lib/python3.12/site-packages (from ipython>=7.23.1->ipykernel->-r requirements.txt (line 9)) (2.19.1)\n",
      "Requirement already satisfied: stack_data in /home/codespace/.local/lib/python3.12/site-packages (from ipython>=7.23.1->ipykernel->-r requirements.txt (line 9)) (0.6.3)\n",
      "Requirement already satisfied: platformdirs>=2.5 in /home/codespace/.local/lib/python3.12/site-packages (from jupyter-core!=5.0.*,>=4.12->ipykernel->-r requirements.txt (line 9)) (4.3.7)\n",
      "Requirement already satisfied: six>=1.5 in /home/codespace/.local/lib/python3.12/site-packages (from python-dateutil>=2.8.2->pandas<3.0,>=1.5->-r requirements.txt (line 2)) (1.17.0)\n",
      "Requirement already satisfied: parso<0.9.0,>=0.8.4 in /home/codespace/.local/lib/python3.12/site-packages (from jedi>=0.16->ipython>=7.23.1->ipykernel->-r requirements.txt (line 9)) (0.8.4)\n",
      "Requirement already satisfied: ptyprocess>=0.5 in /home/codespace/.local/lib/python3.12/site-packages (from pexpect>4.3->ipython>=7.23.1->ipykernel->-r requirements.txt (line 9)) (0.7.0)\n",
      "Requirement already satisfied: wcwidth in /home/codespace/.local/lib/python3.12/site-packages (from prompt_toolkit<3.1.0,>=3.0.41->ipython>=7.23.1->ipykernel->-r requirements.txt (line 9)) (0.2.13)\n",
      "Requirement already satisfied: executing>=1.2.0 in /home/codespace/.local/lib/python3.12/site-packages (from stack_data->ipython>=7.23.1->ipykernel->-r requirements.txt (line 9)) (2.2.0)\n",
      "Requirement already satisfied: asttokens>=2.1.0 in /home/codespace/.local/lib/python3.12/site-packages (from stack_data->ipython>=7.23.1->ipykernel->-r requirements.txt (line 9)) (3.0.0)\n",
      "Requirement already satisfied: pure-eval in /home/codespace/.local/lib/python3.12/site-packages (from stack_data->ipython>=7.23.1->ipykernel->-r requirements.txt (line 9)) (0.2.3)\n",
      "\n",
      "\u001b[1m[\u001b[0m\u001b[34;49mnotice\u001b[0m\u001b[1;39;49m]\u001b[0m\u001b[39;49m A new release of pip is available: \u001b[0m\u001b[31;49m25.0.1\u001b[0m\u001b[39;49m -> \u001b[0m\u001b[32;49m25.1.1\u001b[0m\n",
      "\u001b[1m[\u001b[0m\u001b[34;49mnotice\u001b[0m\u001b[1;39;49m]\u001b[0m\u001b[39;49m To update, run: \u001b[0m\u001b[32;49mpython -m pip install --upgrade pip\u001b[0m\n",
      "Note: you may need to restart the kernel to use updated packages.\n"
     ]
    }
   ],
   "source": [
    "%pip install -r requirements.txt"
   ]
  },
  {
   "cell_type": "markdown",
   "id": "cd9b380f",
   "metadata": {},
   "source": [
    "# Part 2: Time Series Features & Tree-Based Models\n",
    "\n",
    "**Objective:** Extract basic time-series features from heart rate data, train Random Forest and XGBoost models, and compare their performance.\n",
    "\n",
    "## 1. Setup\n",
    "\n",
    "Import necessary libraries."
   ]
  },
  {
   "cell_type": "code",
   "execution_count": 7,
   "id": "cfb4529f",
   "metadata": {},
   "outputs": [],
   "source": [
    "import pandas as pd\n",
    "import numpy as np\n",
    "import os\n",
    "from sklearn.model_selection import train_test_split\n",
    "from sklearn.ensemble import RandomForestClassifier\n",
    "import xgboost as xgb\n",
    "from sklearn.metrics import roc_auc_score\n",
    "from sklearn.impute import SimpleImputer"
   ]
  },
  {
   "cell_type": "markdown",
   "id": "6215c3d7",
   "metadata": {},
   "source": [
    "## 2. Data Loading\n",
    "\n",
    "Load the dataset."
   ]
  },
  {
   "cell_type": "code",
   "execution_count": 8,
   "id": "67361628",
   "metadata": {},
   "outputs": [],
   "source": [
    "def load_data(file_path):\n",
    "    \"\"\"\n",
    "    Load the synthetic health data from a CSV file.\n",
    "    \n",
    "    Args:\n",
    "        file_path: Path to the CSV file\n",
    "        \n",
    "    Returns:\n",
    "        DataFrame containing the data with timestamp parsed as datetime\n",
    "    \"\"\"\n",
    "    df = pd.read_csv(file_path, parse_dates = [\"timestamp\"])    \n",
    "    return df  "
   ]
  },
  {
   "cell_type": "markdown",
   "id": "5156617a",
   "metadata": {},
   "source": [
    "## 3. Feature Engineering\n",
    "\n",
    "Implement `extract_rolling_features` to calculate rolling mean and standard deviation for the `heart_rate`."
   ]
  },
  {
   "cell_type": "code",
   "execution_count": 14,
   "id": "9c3dee1b",
   "metadata": {},
   "outputs": [],
   "source": [
    "def extract_rolling_features(df, window_size_seconds):\n",
    "    \"\"\"\n",
    "    Calculate rolling mean and standard deviation for heart rate.\n",
    "    \"\"\"\n",
    "    df = df.sort_values(\"timestamp\").set_index(\"timestamp\")\n",
    "\n",
    "    # Calculate rolling stats\n",
    "    rolling = df[\"heart_rate\"].rolling(f\"{window_size_seconds}s\")\n",
    "    df[\"hr_rolling_mean\"] = rolling.mean()\n",
    "    df[\"hr_rolling_std\"] = rolling.std()\n",
    "\n",
    "    # Clean NaNs\n",
    "    df[\"hr_rolling_mean\"].fillna(method=\"bfill\", inplace=True)\n",
    "    df[\"hr_rolling_mean\"].fillna(method=\"ffill\", inplace=True)\n",
    "    df[\"hr_rolling_std\"].fillna(method=\"bfill\", inplace=True)\n",
    "    df[\"hr_rolling_std\"].fillna(method=\"ffill\", inplace=True)\n",
    "    \n",
    "    return df.reset_index().copy()\n"
   ]
  },
  {
   "cell_type": "markdown",
   "id": "afbd5ae2",
   "metadata": {},
   "source": [
    "## 4. Data Preparation\n",
    "\n",
    "Implement `prepare_data_part2` using the newly engineered features."
   ]
  },
  {
   "cell_type": "code",
   "execution_count": null,
   "id": "ab0537a2",
   "metadata": {},
   "outputs": [],
   "source": [
    "def prepare_data_part2(df_with_features, test_size=0.2, random_state=42):\n",
    "    \"\"\"\n",
    "    Prepare data for modeling with time-series features.\n",
    "    \"\"\"\n",
    "    # Select features and target\n",
    "    features = [\"age\", \"systolic_bp\", \"diastolic_bp\", \"glucose_level\", \"bmi\", \n",
    "            \"hr_rolling_mean\", \"hr_rolling_std\"]\n",
    "    X = df_with_features[features]\n",
    "    y = df_with_features[\"disease_outcome\"]\n",
    "\n",
    "    # Train-test split\n",
    "    X_train, X_test, y_train, y_test = train_test_split(\n",
    "    X, y, test_size=test_size, random_state=random_state, stratify=y\n",
    "    )\n",
    "\n",
    "    # Handle missing values\n",
    "    imputer = SimpleImputer(strategy=\"mean\")\n",
    "    X_train = pd.DataFrame(imputer.fit_transform(X_train), columns=X.columns, index=X_train.index)\n",
    "    X_test = pd.DataFrame(imputer.transform(X_test), columns=X.columns, index=X_test.index)\n",
    "\n",
    "    return X_train, X_test, y_train, y_test"
   ]
  },
  {
   "cell_type": "markdown",
   "id": "b9c44fb0",
   "metadata": {},
   "source": [
    "## 5. Random Forest Model\n",
    "\n",
    "Implement `train_random_forest`."
   ]
  },
  {
   "cell_type": "code",
   "execution_count": 15,
   "id": "17ed8268",
   "metadata": {},
   "outputs": [],
   "source": [
    "def train_random_forest(X_train, y_train, n_estimators=100, max_depth=10, random_state=42):\n",
    "    \"\"\"\n",
    "    Train a Random Forest classifier.\n",
    "    \"\"\"\n",
    "    model = RandomForestClassifier(\n",
    "    n_estimators=n_estimators,\n",
    "    max_depth=max_depth,\n",
    "    random_state=random_state\n",
    "    )\n",
    "    model.fit(X_train, y_train)\n",
    "\n",
    "    return model"
   ]
  },
  {
   "cell_type": "markdown",
   "id": "16273f2a",
   "metadata": {},
   "source": [
    "## 6. XGBoost Model\n",
    "\n",
    "Implement `train_xgboost`."
   ]
  },
  {
   "cell_type": "code",
   "execution_count": 16,
   "id": "b5f3dee7",
   "metadata": {},
   "outputs": [],
   "source": [
    "import xgboost as xgb\n",
    "\n",
    "def train_xgboost(X_train, y_train, n_estimators=100, learning_rate=0.1, max_depth=5, random_state=42):\n",
    "    model = xgb.XGBClassifier(\n",
    "    n_estimators=n_estimators,\n",
    "    learning_rate=learning_rate,\n",
    "    max_depth=max_depth,\n",
    "    random_state=random_state,\n",
    "    use_label_encoder=False,\n",
    "    eval_metric=\"logloss\"\n",
    ")\n",
    "    model.fit(X_train, y_train)\n",
    "\n",
    "    return model"
   ]
  },
  {
   "cell_type": "markdown",
   "id": "b7eea7b5",
   "metadata": {},
   "source": [
    "## 7. Model Comparison\n",
    "\n",
    "Calculate and compare AUC scores for both models."
   ]
  },
  {
   "cell_type": "code",
   "execution_count": 17,
   "id": "c48eb71c",
   "metadata": {},
   "outputs": [],
   "source": [
    "def model_compare (rf_model, xgb_model, X_test, y_test):\n",
    "    rf_auc = roc_auc_score(y_test, rf_model.predict_proba(X_test)[:, 1])\n",
    "    xgb_auc = roc_auc_score(y_test, xgb_model.predict_proba(X_test)[:, 1])\n",
    "\n",
    "    print(f\"Random Forest AUC: {rf_auc:.4f}\")\n",
    "    print(f\"XGBoost AUC: {xgb_auc:.4f}\")\n",
    "\n",
    "    return {\"rf_auc\": rf_auc, \"xgb_auc\": xgb_auc}"
   ]
  },
  {
   "cell_type": "markdown",
   "id": "3e86428b",
   "metadata": {},
   "source": [
    "## 8. Save Results\n",
    "\n",
    "Save the AUC scores to a text file."
   ]
  },
  {
   "cell_type": "code",
   "execution_count": 19,
   "id": "fdcdb044",
   "metadata": {},
   "outputs": [],
   "source": [
    "def save_results(metrics):\n",
    "    os.makedirs(\"results\", exist_ok=True)\n",
    "\n",
    "    result_str = \"\\n\".join([f\"{k}: {v:.4f}\" for k, v in metrics.items()]) + \"\\n\"\n",
    "\n",
    "    with open(\"results/results_part2.txt\", \"w\") as f:\n",
    "        f.write(result_str)\n"
   ]
  },
  {
   "cell_type": "markdown",
   "id": "e73f507f",
   "metadata": {},
   "source": [
    "## 9. Main Execution\n",
    "\n",
    "Run the complete workflow."
   ]
  },
  {
   "cell_type": "code",
   "execution_count": 20,
   "id": "1ebbfb64",
   "metadata": {},
   "outputs": [
    {
     "name": "stderr",
     "output_type": "stream",
     "text": [
      "/tmp/ipykernel_6995/2416901249.py:13: FutureWarning: A value is trying to be set on a copy of a DataFrame or Series through chained assignment using an inplace method.\n",
      "The behavior will change in pandas 3.0. This inplace method will never work because the intermediate object on which we are setting values always behaves as a copy.\n",
      "\n",
      "For example, when doing 'df[col].method(value, inplace=True)', try using 'df.method({col: value}, inplace=True)' or df[col] = df[col].method(value) instead, to perform the operation inplace on the original object.\n",
      "\n",
      "\n",
      "  df[\"hr_rolling_mean\"].fillna(method=\"bfill\", inplace=True)\n",
      "/tmp/ipykernel_6995/2416901249.py:13: FutureWarning: Series.fillna with 'method' is deprecated and will raise in a future version. Use obj.ffill() or obj.bfill() instead.\n",
      "  df[\"hr_rolling_mean\"].fillna(method=\"bfill\", inplace=True)\n",
      "/tmp/ipykernel_6995/2416901249.py:14: FutureWarning: A value is trying to be set on a copy of a DataFrame or Series through chained assignment using an inplace method.\n",
      "The behavior will change in pandas 3.0. This inplace method will never work because the intermediate object on which we are setting values always behaves as a copy.\n",
      "\n",
      "For example, when doing 'df[col].method(value, inplace=True)', try using 'df.method({col: value}, inplace=True)' or df[col] = df[col].method(value) instead, to perform the operation inplace on the original object.\n",
      "\n",
      "\n",
      "  df[\"hr_rolling_mean\"].fillna(method=\"ffill\", inplace=True)\n",
      "/tmp/ipykernel_6995/2416901249.py:14: FutureWarning: Series.fillna with 'method' is deprecated and will raise in a future version. Use obj.ffill() or obj.bfill() instead.\n",
      "  df[\"hr_rolling_mean\"].fillna(method=\"ffill\", inplace=True)\n",
      "/tmp/ipykernel_6995/2416901249.py:15: FutureWarning: A value is trying to be set on a copy of a DataFrame or Series through chained assignment using an inplace method.\n",
      "The behavior will change in pandas 3.0. This inplace method will never work because the intermediate object on which we are setting values always behaves as a copy.\n",
      "\n",
      "For example, when doing 'df[col].method(value, inplace=True)', try using 'df.method({col: value}, inplace=True)' or df[col] = df[col].method(value) instead, to perform the operation inplace on the original object.\n",
      "\n",
      "\n",
      "  df[\"hr_rolling_std\"].fillna(method=\"bfill\", inplace=True)\n",
      "/tmp/ipykernel_6995/2416901249.py:15: FutureWarning: Series.fillna with 'method' is deprecated and will raise in a future version. Use obj.ffill() or obj.bfill() instead.\n",
      "  df[\"hr_rolling_std\"].fillna(method=\"bfill\", inplace=True)\n",
      "/tmp/ipykernel_6995/2416901249.py:16: FutureWarning: A value is trying to be set on a copy of a DataFrame or Series through chained assignment using an inplace method.\n",
      "The behavior will change in pandas 3.0. This inplace method will never work because the intermediate object on which we are setting values always behaves as a copy.\n",
      "\n",
      "For example, when doing 'df[col].method(value, inplace=True)', try using 'df.method({col: value}, inplace=True)' or df[col] = df[col].method(value) instead, to perform the operation inplace on the original object.\n",
      "\n",
      "\n",
      "  df[\"hr_rolling_std\"].fillna(method=\"ffill\", inplace=True)\n",
      "/tmp/ipykernel_6995/2416901249.py:16: FutureWarning: Series.fillna with 'method' is deprecated and will raise in a future version. Use obj.ffill() or obj.bfill() instead.\n",
      "  df[\"hr_rolling_std\"].fillna(method=\"ffill\", inplace=True)\n"
     ]
    },
    {
     "name": "stdout",
     "output_type": "stream",
     "text": [
      "Random Forest AUC: 0.7808\n",
      "XGBoost AUC: 0.7686\n"
     ]
    },
    {
     "name": "stderr",
     "output_type": "stream",
     "text": [
      "/home/codespace/.local/lib/python3.12/site-packages/xgboost/core.py:158: UserWarning: [02:01:54] WARNING: /workspace/src/learner.cc:740: \n",
      "Parameters: { \"use_label_encoder\" } are not used.\n",
      "\n",
      "  warnings.warn(smsg, UserWarning)\n"
     ]
    }
   ],
   "source": [
    "# Main execution\n",
    "if __name__ == \"__main__\":\n",
    "    # 1. Load data\n",
    "    data_file = 'data/synthetic_health_data.csv'\n",
    "    df = load_data(data_file)\n",
    "    \n",
    "    # 2. Extract rolling features\n",
    "    window_size = 300  # 5 minutes in seconds\n",
    "    df_with_features = extract_rolling_features(df, window_size)\n",
    "    \n",
    "    # 3. Prepare data\n",
    "    X_train, X_test, y_train, y_test = prepare_data_part2(df_with_features)\n",
    "    \n",
    "    # 4. Train models\n",
    "    rf_model = train_random_forest(X_train, y_train)\n",
    "    xgb_model = train_xgboost(X_train, y_train)\n",
    "    \n",
    "    # 5. Compare model performance\n",
    "    metrics = model_compare(rf_model, xgb_model, X_test, y_test)\n",
    "    \n",
    "    # 6. Save results\n",
    "    save_results(metrics)\n"
   ]
  }
 ],
 "metadata": {
  "jupytext": {
   "cell_metadata_filter": "-all",
   "main_language": "python",
   "notebook_metadata_filter": "-all"
  },
  "kernelspec": {
   "display_name": "Python 3",
   "language": "python",
   "name": "python3"
  },
  "language_info": {
   "codemirror_mode": {
    "name": "ipython",
    "version": 3
   },
   "file_extension": ".py",
   "mimetype": "text/x-python",
   "name": "python",
   "nbconvert_exporter": "python",
   "pygments_lexer": "ipython3",
   "version": "3.12.1"
  }
 },
 "nbformat": 4,
 "nbformat_minor": 5
}
